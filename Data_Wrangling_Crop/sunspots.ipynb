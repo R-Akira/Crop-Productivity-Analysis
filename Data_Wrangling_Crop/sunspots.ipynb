{
 "cells": [
  {
   "cell_type": "code",
   "execution_count": 1,
   "metadata": {},
   "outputs": [],
   "source": [
    "# Import libraries and load datasets \n",
    "import pandas as pd\n",
    "import numpy as np\n",
    "\n",
    "rain_df = pd.read_csv('precipitation_MG.csv')\n",
    "sunspots_df = pd.read_csv('sunspots.csv')\n",
    "coffee_df = pd.read_csv('coffee.csv')\n",
    "maize_df = pd.read_csv('maize.csv')\n",
    "lemons_df = pd.read_csv('lemons.csv')"
   ]
  },
  {
   "cell_type": "code",
   "execution_count": 2,
   "metadata": {},
   "outputs": [],
   "source": [
    "# Create a dataframe with YEARLY moving moving averages for rain (MA_12), from 1998 until 2017\n",
    "\n",
    "rain = rain_df.copy()\n",
    "rain['MA_12'] = rain.iloc[:,2].rolling(window=12).mean().round(1)\n",
    "rain = rain.iloc[[11,23,35,47,59,71,83,95,107,119,131,143,155,167,179,191,203,215,227,238],:]\n",
    "rain = rain.drop(['state','precipitation'], axis=1)\n",
    "rain.reset_index(drop=True, inplace=True)\n"
   ]
  },
  {
   "cell_type": "code",
   "execution_count": 3,
   "metadata": {},
   "outputs": [],
   "source": [
    "# Create a dataframe with YEARLY moving averages for sunspots (ma_12), from 1998 until 2017\n",
    "\n",
    "sunspots = sunspots_df.copy()\n",
    "sunspots = sunspots.iloc[2544:,:]\n",
    "sunspots = sunspots[['Date','Monthly Mean Total Sunspot Number']]\n",
    "sunspots['ma_12'] = sunspots.iloc[:,1].rolling(window=12).mean().round(1)\n",
    "sunspots = sunspots.iloc[[455,467,479,491,503,515,527,539,551,563,575,587,599,611,623,635,647,659,671,683],:]\n",
    "sunspots = sunspots.drop(['Monthly Mean Total Sunspot Number'], axis=1)\n",
    "sunspots.reset_index(drop=True, inplace=True)\n"
   ]
  },
  {
   "cell_type": "code",
   "execution_count": 4,
   "metadata": {},
   "outputs": [],
   "source": [
    "# Create a clean dataframe with rain data from all MONTHS, from 1998 until 2017\n",
    "\n",
    "rain_comp = rain_df.copy()\n",
    "rain_comp = rain_comp.drop(['state'], axis=1)\n"
   ]
  },
  {
   "cell_type": "code",
   "execution_count": 5,
   "metadata": {},
   "outputs": [],
   "source": [
    "# Create a clean dataframe with MONTHLY sunspot data, from 1910 until 2019\n",
    "\n",
    "sunspots_comp = sunspots_df.copy()\n",
    "sunspots_comp = sunspots_comp.iloc[1932:,:]\n",
    "sunspots_comp = sunspots_comp[['Date','Monthly Mean Total Sunspot Number']]\n",
    "sunspots_comp.reset_index(drop=True, inplace=True)"
   ]
  },
  {
   "cell_type": "code",
   "execution_count": 6,
   "metadata": {},
   "outputs": [],
   "source": [
    "# Combine both sunspot dataframes and slice data since 1998 (TO CREATE GRAPH 1 FROM SLIDE 3)\n",
    "\n",
    "sunspots_df2 = sunspots_df.copy()\n",
    "sunspots_df2 = sunspots_df2.iloc[2988:,:]\n",
    "sunspots_df2 = sunspots_df2[['Date','Monthly Mean Total Sunspot Number']]\n",
    "sunspots_df2['ma_2'] = sunspots_df2.iloc[:,1].rolling(window=2).mean().round(1)\n",
    "sunspots_df2 = sunspots_df2.drop(['Monthly Mean Total Sunspot Number'], axis=1)\n",
    "sunspots_df2.reset_index(drop=True, inplace=True)\n",
    "\n",
    "sunspots_comp2 = sunspots_df.copy()\n",
    "sunspots_comp2 = sunspots_comp2.iloc[2988:,:]\n",
    "sunspots_comp2 = sunspots_comp2[['Date','Monthly Mean Total Sunspot Number']]\n",
    "sunspots_comp2.reset_index(drop=True, inplace=True)\n",
    "\n",
    "sunspots2 = sunspots_df2['ma_2']\n",
    "sunspots_complete = sunspots_comp2.join(sunspots2)"
   ]
  },
  {
   "cell_type": "code",
   "execution_count": 7,
   "metadata": {},
   "outputs": [
    {
     "data": {
      "text/html": [
       "<div>\n",
       "<style scoped>\n",
       "    .dataframe tbody tr th:only-of-type {\n",
       "        vertical-align: middle;\n",
       "    }\n",
       "\n",
       "    .dataframe tbody tr th {\n",
       "        vertical-align: top;\n",
       "    }\n",
       "\n",
       "    .dataframe thead th {\n",
       "        text-align: right;\n",
       "    }\n",
       "</style>\n",
       "<table border=\"1\" class=\"dataframe\">\n",
       "  <thead>\n",
       "    <tr style=\"text-align: right;\">\n",
       "      <th></th>\n",
       "      <th>date</th>\n",
       "      <th>precipitation</th>\n",
       "      <th>MA_2</th>\n",
       "    </tr>\n",
       "  </thead>\n",
       "  <tbody>\n",
       "    <tr>\n",
       "      <th>0</th>\n",
       "      <td>31/01/1998</td>\n",
       "      <td>339.6</td>\n",
       "      <td>NaN</td>\n",
       "    </tr>\n",
       "    <tr>\n",
       "      <th>1</th>\n",
       "      <td>28/02/1998</td>\n",
       "      <td>226.3</td>\n",
       "      <td>283.0</td>\n",
       "    </tr>\n",
       "    <tr>\n",
       "      <th>2</th>\n",
       "      <td>31/03/1998</td>\n",
       "      <td>68.7</td>\n",
       "      <td>147.5</td>\n",
       "    </tr>\n",
       "    <tr>\n",
       "      <th>3</th>\n",
       "      <td>30/04/1998</td>\n",
       "      <td>37.2</td>\n",
       "      <td>53.0</td>\n",
       "    </tr>\n",
       "    <tr>\n",
       "      <th>4</th>\n",
       "      <td>31/05/1998</td>\n",
       "      <td>78.2</td>\n",
       "      <td>57.7</td>\n",
       "    </tr>\n",
       "  </tbody>\n",
       "</table>\n",
       "</div>"
      ],
      "text/plain": [
       "         date  precipitation   MA_2\n",
       "0  31/01/1998          339.6    NaN\n",
       "1  28/02/1998          226.3  283.0\n",
       "2  31/03/1998           68.7  147.5\n",
       "3  30/04/1998           37.2   53.0\n",
       "4  31/05/1998           78.2   57.7"
      ]
     },
     "execution_count": 7,
     "metadata": {},
     "output_type": "execute_result"
    }
   ],
   "source": [
    "# Combine both sunspot dataframes and slice data since 1998 (TO CREATE GRAPH 2 FROM SLIDE 3)\n",
    "\n",
    "rain_df2 = rain_df.copy()\n",
    "rain_df2['MA_2'] = rain_df2.iloc[:,2].rolling(window=2).mean().round(1)\n",
    "rain_df2 = rain_df2.drop(['state','precipitation'], axis=1)\n",
    "rain_df2.reset_index(drop=True, inplace=True)\n",
    "\n",
    "rain_comp2 = rain_df.copy()\n",
    "rain_comp2 = rain_comp2.drop(['state'], axis=1)\n",
    "rain_comp2.reset_index(drop=True, inplace=True)\n",
    "\n",
    "\n",
    "rain2 = rain_df2['MA_2']\n",
    "rain_complete = rain_comp2.join(rain2)\n",
    "\n",
    "rain_complete.head()"
   ]
  },
  {
   "cell_type": "code",
   "execution_count": 21,
   "metadata": {
    "scrolled": true
   },
   "outputs": [],
   "source": [
    "# Load lemon dataset (production, area, productivity) (SLIDE 4), from 1998 until 2017\n",
    "\n",
    "lemons = lemons_df.copy()\n",
    "lemons = lemons.iloc[[112,115,118,121,124,127,130,133,136,139,142,145,148,151,154,157,160,163,166,169],:]\n",
    "lemons = lemons[['Year','Value']]\n",
    "lemons.reset_index(drop=True, inplace=True)"
   ]
  },
  {
   "cell_type": "code",
   "execution_count": 63,
   "metadata": {},
   "outputs": [],
   "source": [
    "# Load Coffee dataset (production, area, productivity) (SLIDE 4), from 1998 until 2017\n",
    "\n",
    "coffee = coffee_df.copy()\n",
    "coffee = coffee.iloc[[112,115,118,121,124,127,130,133,136,139,142,145,148,151,154,157,160,163,166,169],:]\n",
    "coffee = coffee[['Year','Value']]\n",
    "coffee.reset_index(drop=True, inplace=True)"
   ]
  },
  {
   "cell_type": "code",
   "execution_count": 24,
   "metadata": {},
   "outputs": [],
   "source": [
    "# Load maize dataset (production, area, productivity) (SLIDE 4), from 1998 until 2017\n",
    "\n",
    "maize = maize_df.copy()\n",
    "maize = maize.iloc[[112,115,118,121,124,127,130,133,136,139,142,145,148,151,154,157,160,163,166,169],:]\n",
    "maize = maize[['Year','Value']]\n",
    "maize.reset_index(drop=True, inplace=True)"
   ]
  },
  {
   "cell_type": "code",
   "execution_count": 25,
   "metadata": {},
   "outputs": [],
   "source": [
    "# Combine datasets (coffee/maize/lemons + rain + sunspots)\n",
    "\n",
    "s_vector = sunspots['ma_12']\n",
    "r_vector = rain[\"MA_12\"]\n",
    "\n",
    "coffee_all = coffee.join(r_vector)\n",
    "coffee_complete2 = coffee_all.join(s_vector)\n",
    "\n",
    "lemons_all = lemons.join(r_vector)\n",
    "lemons_complete2 = lemons_all.join(s_vector)\n",
    "\n",
    "maize_all = maize.join(r_vector)\n",
    "maize_complete2 = maize_all.join(s_vector)\n"
   ]
  },
  {
   "cell_type": "code",
   "execution_count": 26,
   "metadata": {},
   "outputs": [],
   "source": [
    "# Export complete datasets to excel to perform regression\n",
    "\n",
    "coffee_complete2.to_excel(\"coffee_complete2.xlsx\")\n",
    "\n",
    "lemons_complete2.to_excel(\"lemons_complete2.xlsx\")\n",
    "\n",
    "maize_complete2.to_excel(\"maize_complete2.xlsx\")"
   ]
  },
  {
   "cell_type": "code",
   "execution_count": 64,
   "metadata": {},
   "outputs": [],
   "source": [
    "# Export coffee all years dataset to excel\n",
    "\n",
    "coffee_all_years = coffee_df.copy()\n",
    "coffee_all_years = coffee_all_years.iloc[[1,4,7,10,13,16,19,22,25,28,31,34,37,40,43,46,49,52,55,58,61,64,67,70,73,76,79,82,85,88,91,94,97,100,103,106,109,112,115,118,121,124,127,130,133,136,139,142,145,148,151,154,157,160,163,166,169,172],:]\n",
    "coffee_all_years = coffee_all_years[['Year','Value']]\n",
    "coffee_all_years.reset_index(drop=True, inplace=True)\n",
    "coffee_all_years.to_excel(\"coffee_all_years.xlsx\")\n",
    "\n",
    "\n",
    "maize_all_years = maize_df.copy()\n",
    "maize_all_years = maize_all_years.iloc[[1,4,7,10,13,16,19,22,25,28,31,34,37,40,43,46,49,52,55,58,61,64,67,70,73,76,79,82,85,88,91,94,97,100,103,106,109,112,115,118,121,124,127,130,133,136,139,142,145,148,151,154,157,160,163,166,169,172],:]\n",
    "maize_all_years = maize_all_years[['Year','Value']]\n",
    "maize_all_years.reset_index(drop=True, inplace=True)\n",
    "maize_all_years.to_excel(\"maize_all_years.xlsx\")\n",
    "\n",
    "\n",
    "lemon_all_years = lemons_df.copy()\n",
    "lemon_all_years = lemon_all_years.iloc[[1,4,7,10,13,16,19,22,25,28,31,34,37,40,43,46,49,52,55,58,61,64,67,70,73,76,79,82,85,88,91,94,97,100,103,106,109,112,115,118,121,124,127,130,133,136,139,142,145,148,151,154,157,160,163,166,169,172],:]\n",
    "lemon_all_years = lemon_all_years[['Year','Value']]\n",
    "lemon_all_years.reset_index(drop=True, inplace=True)\n",
    "lemon_all_years.to_excel(\"lemon_all_years.xlsx\")"
   ]
  },
  {
   "cell_type": "code",
   "execution_count": 51,
   "metadata": {},
   "outputs": [
    {
     "data": {
      "text/plain": [
       "(0.9531921146464679, 1.085183536521915)"
      ]
     },
     "execution_count": 51,
     "metadata": {},
     "output_type": "execute_result"
    }
   ],
   "source": [
    "# calculate the seasonal factors associated with the rain cycle for COFFEE, from 1998 until 2017\n",
    "\n",
    "rf= coffee.copy()\n",
    "rf_1= rf['Value'].rolling(window=1).mean()\n",
    "rf_2= rf.iloc[:,1].rolling(window=2).mean()\n",
    "pd.to_numeric(rf_1, errors='coerce')\n",
    "pd.to_numeric(rf_2, errors='coerce')\n",
    "rf_3 = rf_1/rf_2\n",
    "\n",
    "# list[start:stop:step]\n",
    "odd_index_list = rf_3[1::2]\n",
    "even_index_list = rf_3[2::2]\n",
    "\n",
    "rf_even_years = sum(even_index_list)/len(even_index_list)\n",
    "rf_odd_years = sum(odd_index_list)/len(odd_index_list)\n",
    "\n",
    "rf_odd_years,rf_even_years\n"
   ]
  },
  {
   "cell_type": "code",
   "execution_count": 60,
   "metadata": {},
   "outputs": [
    {
     "data": {
      "text/plain": [
       "(1.0891901874400776,\n",
       " 1.3098000853357754,\n",
       " 1.1405925570995048,\n",
       " 1.2790277830565164,\n",
       " 1.142306608618198,\n",
       " 1.264083854630798,\n",
       " 1.1919435849705264,\n",
       " 1.1422247178210168,\n",
       " 1.0535221021649654,\n",
       " 1.155568439280783)"
      ]
     },
     "execution_count": 60,
     "metadata": {},
     "output_type": "execute_result"
    }
   ],
   "source": [
    "# calculate the seasonal factors associated with the sunspot cycle for COFFEE, from 1998 until 2017\n",
    "\n",
    "sf = coffee.copy()\n",
    "sf_1 = sf['Value'].rolling(window=1).mean()\n",
    "sf_2 = sf['Value'].rolling(window=10).mean()\n",
    "sf_3 = sf_1/sf_2\n",
    "sf_3 = sf_3[9:]\n",
    "\n",
    "# list[start:stop:step]\n",
    "zero_index_list = sf_3[0::10]\n",
    "one_index_list = sf_3[1::10]\n",
    "two_index_list = sf_3[2::10]\n",
    "three_index_list = sf_3[3::10]\n",
    "four_index_list = sf_3[4::10]\n",
    "five_index_list = sf_3[5::10]\n",
    "six_index_list = sf_3[6::10]\n",
    "seven_index_list = sf_3[7::10]\n",
    "eight_index_list = sf_3[8::10]\n",
    "nine_index_list = sf_3[9::10]\n",
    "\n",
    "sf_y0 = sum(zero_index_list)/len(zero_index_list)\n",
    "sf_y1 = sum(one_index_list)/len(one_index_list)\n",
    "sf_y2 = sum(two_index_list)/len(two_index_list)\n",
    "sf_y3 = sum(three_index_list)/len(three_index_list)\n",
    "sf_y4 = sum(four_index_list)/len(four_index_list)\n",
    "sf_y5 = sum(five_index_list)/len(five_index_list)\n",
    "sf_y6 = sum(six_index_list)/len(six_index_list)\n",
    "sf_y7 = sum(seven_index_list)/len(seven_index_list)\n",
    "sf_y8 = sum(eight_index_list)/len(eight_index_list)\n",
    "sf_y9 = sum(nine_index_list)/len(nine_index_list)\n",
    "\n",
    "sf_y0,sf_y1,sf_y2,sf_y3,sf_y4,sf_y5,sf_y6,sf_y7,sf_y8,sf_y9"
   ]
  },
  {
   "cell_type": "code",
   "execution_count": null,
   "metadata": {},
   "outputs": [],
   "source": []
  },
  {
   "cell_type": "code",
   "execution_count": null,
   "metadata": {},
   "outputs": [],
   "source": []
  },
  {
   "cell_type": "code",
   "execution_count": null,
   "metadata": {},
   "outputs": [],
   "source": []
  }
 ],
 "metadata": {
  "kernelspec": {
   "display_name": "Python 3",
   "language": "python",
   "name": "python3"
  },
  "language_info": {
   "codemirror_mode": {
    "name": "ipython",
    "version": 3
   },
   "file_extension": ".py",
   "mimetype": "text/x-python",
   "name": "python",
   "nbconvert_exporter": "python",
   "pygments_lexer": "ipython3",
   "version": "3.7.6"
  },
  "toc": {
   "base_numbering": 1,
   "nav_menu": {},
   "number_sections": true,
   "sideBar": true,
   "skip_h1_title": false,
   "title_cell": "Table of Contents",
   "title_sidebar": "Contents",
   "toc_cell": false,
   "toc_position": {},
   "toc_section_display": true,
   "toc_window_display": false
  },
  "varInspector": {
   "cols": {
    "lenName": 16,
    "lenType": 16,
    "lenVar": 40
   },
   "kernels_config": {
    "python": {
     "delete_cmd_postfix": "",
     "delete_cmd_prefix": "del ",
     "library": "var_list.py",
     "varRefreshCmd": "print(var_dic_list())"
    },
    "r": {
     "delete_cmd_postfix": ") ",
     "delete_cmd_prefix": "rm(",
     "library": "var_list.r",
     "varRefreshCmd": "cat(var_dic_list()) "
    }
   },
   "types_to_exclude": [
    "module",
    "function",
    "builtin_function_or_method",
    "instance",
    "_Feature"
   ],
   "window_display": false
  }
 },
 "nbformat": 4,
 "nbformat_minor": 2
}
